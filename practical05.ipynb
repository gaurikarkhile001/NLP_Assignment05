{
  "nbformat": 4,
  "nbformat_minor": 0,
  "metadata": {
    "colab": {
      "provenance": []
    },
    "kernelspec": {
      "name": "python3",
      "display_name": "Python 3"
    },
    "language_info": {
      "name": "python"
    }
  },
  "cells": [
    {
      "cell_type": "markdown",
      "source": [
        "# 5. Perform different parsing techniques using Shallow parser, regex parser"
      ],
      "metadata": {
        "id": "7c9su8JrzsTH"
      }
    },
    {
      "cell_type": "markdown",
      "source": [
        "✅ 1. Shallow Parsing (Chunking)\n",
        "Shallow parsing identifies constituents (like noun phrases, verb phrases) in a sentence, but not the entire syntax tree. We typically use nltk for this."
      ],
      "metadata": {
        "id": "n_DGlSmq0XZs"
      }
    },
    {
      "cell_type": "code",
      "source": [
        "import nltk\n",
        "nltk.download('punkt_tab')\n",
        "# Download the necessary resource for POS tagging\n",
        "nltk.download('averaged_perceptron_tagger_eng')\n",
        "from nltk import word_tokenize, pos_tag, ne_chunk\n",
        "from nltk.chunk import RegexpParser\n",
        "\n",
        "# Sample sentence\n",
        "sentence = \"Gauri is working on a cloud-based resume shortlisting project.\"\n",
        "\n",
        "# Tokenization and POS tagging\n",
        "tokens = word_tokenize(sentence)\n",
        "pos_tags = pos_tag(tokens)\n",
        "\n",
        "# Define a chunk grammar for noun phrases (NP)\n",
        "chunk_grammar = \"NP: {<DT>?<JJ>*<NN.*>+}\"\n",
        "chunk_parser = RegexpParser(chunk_grammar)\n",
        "\n",
        "# Parse\n",
        "tree = chunk_parser.parse(pos_tags)\n",
        "\n",
        "# Print the tree structure instead of drawing it\n",
        "print(tree)  # Prints a textual representation of the tree"
      ],
      "metadata": {
        "colab": {
          "base_uri": "https://localhost:8080/"
        },
        "id": "WTIU6SvD1EZ2",
        "outputId": "15ac9ac1-4ad6-4f80-ba17-4a616a134864"
      },
      "execution_count": 4,
      "outputs": [
        {
          "output_type": "stream",
          "name": "stdout",
          "text": [
            "(S\n",
            "  (NP Gauri/NNP)\n",
            "  is/VBZ\n",
            "  working/VBG\n",
            "  on/IN\n",
            "  (NP a/DT cloud-based/JJ resume/NN)\n",
            "  shortlisting/VBG\n",
            "  (NP project/NN)\n",
            "  ./.)\n"
          ]
        },
        {
          "output_type": "stream",
          "name": "stderr",
          "text": [
            "[nltk_data] Downloading package punkt_tab to /root/nltk_data...\n",
            "[nltk_data]   Package punkt_tab is already up-to-date!\n",
            "[nltk_data] Downloading package averaged_perceptron_tagger_eng to\n",
            "[nltk_data]     /root/nltk_data...\n",
            "[nltk_data]   Package averaged_perceptron_tagger_eng is already up-to-\n",
            "[nltk_data]       date!\n"
          ]
        }
      ]
    },
    {
      "cell_type": "markdown",
      "source": [
        "✅ 2. Regex Parsing\n",
        "Regex parsing is more flexible but less linguistically aware. You define regex rules to extract patterns from the text."
      ],
      "metadata": {
        "id": "SHm-8gvv0eFZ"
      }
    },
    {
      "cell_type": "code",
      "source": [
        "import re\n",
        "\n",
        "text = \"\"\"\n",
        "Contact us at support@example.com. The project deadline is 12/05/2025.\n",
        "\"\"\"\n",
        "\n",
        "# Email pattern\n",
        "emails = re.findall(r'\\b[\\w.-]+?@\\w+?\\.\\w+?\\b', text)\n",
        "\n",
        "# Date pattern (dd/mm/yyyy or similar)\n",
        "dates = re.findall(r'\\b\\d{2}/\\d{2}/\\d{4}\\b', text)\n",
        "\n",
        "print(\"Emails:\", emails)\n",
        "print(\"Dates:\", dates)\n"
      ],
      "metadata": {
        "colab": {
          "base_uri": "https://localhost:8080/"
        },
        "id": "JBrR4MSQ0ZYz",
        "outputId": "1c862c9f-9f9b-449f-f21c-dd85bb32c2c6"
      },
      "execution_count": 5,
      "outputs": [
        {
          "output_type": "stream",
          "name": "stdout",
          "text": [
            "Emails: ['support@example.com']\n",
            "Dates: ['12/05/2025']\n"
          ]
        }
      ]
    },
    {
      "cell_type": "code",
      "source": [],
      "metadata": {
        "id": "FVDb7vr61M_q"
      },
      "execution_count": null,
      "outputs": []
    }
  ]
}