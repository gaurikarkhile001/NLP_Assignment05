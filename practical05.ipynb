{
  "cells": [
    {
      "cell_type": "markdown",
      "metadata": {
        "id": "n_DGlSmq0XZs"
      },
      "source": [
        "✅ 1. Shallow Parsing (Chunking)\n",
        "Shallow parsing identifies constituents (like noun phrases, verb phrases) in a sentence, but not the entire syntax tree. We typically use nltk for this."
      ]
    },
    {
      "cell_type": "code",
      "execution_count": 1,
      "metadata": {
        "colab": {
          "base_uri": "https://localhost:8080/"
        },
        "id": "WTIU6SvD1EZ2",
        "outputId": "15ac9ac1-4ad6-4f80-ba17-4a616a134864"
      },
      "outputs": [
        {
          "name": "stdout",
          "output_type": "stream",
          "text": [
            "(S\n",
            "  (NP Gauri/NNP)\n",
            "  is/VBZ\n",
            "  working/VBG\n",
            "  on/IN\n",
            "  (NP a/DT cloud-based/JJ resume/NN)\n",
            "  shortlisting/VBG\n",
            "  (NP project/NN)\n",
            "  ./.)\n"
          ]
        },
        {
          "name": "stderr",
          "output_type": "stream",
          "text": [
            "[nltk_data] Downloading package punkt_tab to\n",
            "[nltk_data]     C:\\Users\\Gauri\\AppData\\Roaming\\nltk_data...\n",
            "[nltk_data]   Package punkt_tab is already up-to-date!\n",
            "[nltk_data] Downloading package averaged_perceptron_tagger_eng to\n",
            "[nltk_data]     C:\\Users\\Gauri\\AppData\\Roaming\\nltk_data...\n",
            "[nltk_data]   Package averaged_perceptron_tagger_eng is already up-to-\n",
            "[nltk_data]       date!\n"
          ]
        }
      ],
      "source": [
        "import nltk\n",
        "nltk.download('punkt_tab')\n",
        "# Download the necessary resource for POS tagging\n",
        "nltk.download('averaged_perceptron_tagger_eng')\n",
        "from nltk import word_tokenize, pos_tag, ne_chunk\n",
        "from nltk.chunk import RegexpParser\n",
        "\n",
        "# Sample sentence\n",
        "sentence = \"Gauri is working on a cloud-based resume shortlisting project.\"\n",
        "\n",
        "# Tokenization and POS tagging\n",
        "tokens = word_tokenize(sentence)\n",
        "pos_tags = pos_tag(tokens)\n",
        "\n",
        "# Define a chunk grammar for noun phrases (NP)\n",
        "chunk_grammar = \"NP: {<DT>?<JJ>*<NN.*>+}\"\n",
        "chunk_parser = RegexpParser(chunk_grammar)\n",
        "\n",
        "# Parse\n",
        "tree = chunk_parser.parse(pos_tags)\n",
        "\n",
        "# Print the tree structure instead of drawing it\n",
        "print(tree)  # Prints a textual representation of the tree"
      ]
    },
    {
      "cell_type": "markdown",
      "metadata": {
        "id": "SHm-8gvv0eFZ"
      },
      "source": [
        "✅ 2. Regex Parsing\n",
        "Regex parsing is more flexible but less linguistically aware. You define regex rules to extract patterns from the text."
      ]
    },
    {
      "cell_type": "code",
      "execution_count": 2,
      "metadata": {
        "colab": {
          "base_uri": "https://localhost:8080/"
        },
        "id": "JBrR4MSQ0ZYz",
        "outputId": "1c862c9f-9f9b-449f-f21c-dd85bb32c2c6"
      },
      "outputs": [
        {
          "name": "stdout",
          "output_type": "stream",
          "text": [
            "Emails: ['support@example.com']\n",
            "Dates: ['12/05/2025']\n"
          ]
        }
      ],
      "source": [
        "import re\n",
        "\n",
        "text = \"\"\"\n",
        "Contact us at support@example.com. The project deadline is 12/05/2025.\n",
        "\"\"\"\n",
        "\n",
        "# Email pattern\n",
        "emails = re.findall(r'\\b[\\w.-]+?@\\w+?\\.\\w+?\\b', text)\n",
        "\n",
        "# Date pattern (dd/mm/yyyy or similar)\n",
        "dates = re.findall(r'\\b\\d{2}/\\d{2}/\\d{4}\\b', text)\n",
        "\n",
        "print(\"Emails:\", emails)\n",
        "print(\"Dates:\", dates)\n"
      ]
    },
    {
      "cell_type": "code",
      "execution_count": null,
      "metadata": {
        "id": "FVDb7vr61M_q"
      },
      "outputs": [],
      "source": []
    }
  ],
  "metadata": {
    "colab": {
      "provenance": []
    },
    "kernelspec": {
      "display_name": ".venv",
      "language": "python",
      "name": "python3"
    },
    "language_info": {
      "codemirror_mode": {
        "name": "ipython",
        "version": 3
      },
      "file_extension": ".py",
      "mimetype": "text/x-python",
      "name": "python",
      "nbconvert_exporter": "python",
      "pygments_lexer": "ipython3",
      "version": "3.12.4"
    }
  },
  "nbformat": 4,
  "nbformat_minor": 0
}
